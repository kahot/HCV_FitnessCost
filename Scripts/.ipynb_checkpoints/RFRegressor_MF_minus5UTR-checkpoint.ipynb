{
 "cells": [
  {
   "cell_type": "markdown",
   "metadata": {
    "id": "Lnay6JGyT2kT"
   },
   "source": []
  },
  {
   "cell_type": "code",
   "execution_count": 1,
   "metadata": {
    "colab": {
     "base_uri": "https://localhost:8080/"
    },
    "executionInfo": {
     "elapsed": 2347,
     "status": "ok",
     "timestamp": 1622219061949,
     "user": {
      "displayName": "Faye Orcales",
      "photoUrl": "https://lh3.googleusercontent.com/a-/AOh14GgjXN79ODVOiN3TMQi7V121eP1n_ihJ8hdsnAoG8w=s64",
      "userId": "06713982783466671515"
     },
     "user_tz": 420
    },
    "id": "pXTDJN0Y83cA",
    "outputId": "522475ae-90d2-4398-b6c9-b90da1bf89e3"
   },
   "outputs": [],
   "source": [
    "import pandas as pd\n",
    "import numpy as np\n",
    "import sklearn\n",
    "import statsmodels.api as sm\n",
    "import math as m\n",
    "import matplotlib.pyplot as plt \n",
    "%matplotlib inline\n",
    "from math import sqrt"
   ]
  },
  {
   "cell_type": "code",
   "execution_count": 2,
   "metadata": {
    "colab": {
     "base_uri": "https://localhost:8080/"
    },
    "executionInfo": {
     "elapsed": 2347,
     "status": "ok",
     "timestamp": 1622219061949,
     "user": {
      "displayName": "Faye Orcales",
      "photoUrl": "https://lh3.googleusercontent.com/a-/AOh14GgjXN79ODVOiN3TMQi7V121eP1n_ihJ8hdsnAoG8w=s64",
      "userId": "06713982783466671515"
     },
     "user_tz": 420
    },
    "id": "pXTDJN0Y83cA",
    "outputId": "522475ae-90d2-4398-b6c9-b90da1bf89e3"
   },
   "outputs": [],
   "source": [
    "from sklearn import preprocessing\n",
    "from sklearn import metrics\n",
    "from sklearn.ensemble import RandomForestClassifier, RandomForestRegressor\n",
    "from sklearn.model_selection import RandomizedSearchCV, GridSearchCV, train_test_split, StratifiedKFold,learning_curve,ShuffleSplit\n",
    "from sklearn.datasets import make_regression\n",
    "from sklearn.metrics import recall_score, accuracy_score, precision_score, f1_score, confusion_matrix, classification_report\n",
    "from sklearn.metrics import r2_score, mean_squared_error, roc_curve, precision_recall_curve, auc, make_scorer\n",
    "from sklearn.feature_selection import SelectFromModel\n",
    "from sklearn.naive_bayes import GaussianNB\n",
    "from sklearn import linear_model "
   ]
  },
  {
   "cell_type": "markdown",
   "metadata": {
    "id": "gFT-jw77UUKA"
   },
   "source": [
    "## Read the feature file"
   ]
  },
  {
   "cell_type": "code",
   "execution_count": 3,
   "metadata": {
    "executionInfo": {
     "elapsed": 234,
     "status": "ok",
     "timestamp": 1622219740076,
     "user": {
      "displayName": "Faye Orcales",
      "photoUrl": "https://lh3.googleusercontent.com/a-/AOh14GgjXN79ODVOiN3TMQi7V121eP1n_ihJ8hdsnAoG8w=s64",
      "userId": "06713982783466671515"
     },
     "user_tz": 420
    },
    "id": "WA_wm7xxDmcQ"
   },
   "outputs": [],
   "source": [
    "#read current csv as df called features\n",
    "features = pd.read_csv('../Data/HCV_allfeattures.csv')"
   ]
  },
  {
   "cell_type": "code",
   "execution_count": 4,
   "metadata": {},
   "outputs": [],
   "source": [
    "#remove 5'UTR\n",
    "features=features[features[\"5' UTR\"]==0]"
   ]
  },
  {
   "cell_type": "markdown",
   "metadata": {
    "id": "rnq1ROwdV0ac"
   },
   "source": [
    "**Editing Features Dataframe and Setting Labels**\n"
   ]
  },
  {
   "cell_type": "code",
   "execution_count": 5,
   "metadata": {},
   "outputs": [],
   "source": [
    "#Mutation freq.\n",
    "labels_fq=np.array(features['Avg_Mutation_Freq'])"
   ]
  },
  {
   "cell_type": "code",
   "execution_count": 6,
   "metadata": {},
   "outputs": [],
   "source": [
    "labels_logfq=np.log(labels_fq)"
   ]
  },
  {
   "cell_type": "code",
   "execution_count": 7,
   "metadata": {},
   "outputs": [
    {
     "data": {
      "text/plain": [
       "array([ -0.68593688,  -0.68942126,  -0.69219665, ..., -10.87634864,\n",
       "       -10.88165369, -11.57693079])"
      ]
     },
     "execution_count": 7,
     "metadata": {},
     "output_type": "execute_result"
    }
   ],
   "source": [
    "labels_logfq"
   ]
  },
  {
   "cell_type": "code",
   "execution_count": 8,
   "metadata": {
    "colab": {
     "base_uri": "https://localhost:8080/",
     "height": 638
    },
    "executionInfo": {
     "elapsed": 224,
     "status": "error",
     "timestamp": 1622219898037,
     "user": {
      "displayName": "Faye Orcales",
      "photoUrl": "https://lh3.googleusercontent.com/a-/AOh14GgjXN79ODVOiN3TMQi7V121eP1n_ihJ8hdsnAoG8w=s64",
      "userId": "06713982783466671515"
     },
     "user_tz": 420
    },
    "id": "Dy9j-zk0sjeB",
    "outputId": "54f84b6f-c108-4239-8de3-b65d763e991e"
   },
   "outputs": [],
   "source": [
    "# Remove the some features from the features data frame\n",
    "features = features.drop('Costs', axis = 1) # axis 1 refers to the columns\n",
    "features = features.drop('Cost Label', axis=1)\n",
    "features = features.drop('Avg_Mutation_Freq', axis = 1)\n",
    "features = features.drop('pos', axis=1)\n",
    "features = features.drop('Mutation_Rate', axis=1)\n",
    "#highly correlated feature\n",
    "features = features.drop('Basic AA', axis = 1)"
   ]
  },
  {
   "cell_type": "markdown",
   "metadata": {
    "id": "5ULo2tJaW9mt"
   },
   "source": [
    "### **Split Data into Training and Testing Sets**"
   ]
  },
  {
   "cell_type": "code",
   "execution_count": 9,
   "metadata": {
    "colab": {
     "base_uri": "https://localhost:8080/",
     "height": 466
    },
    "executionInfo": {
     "elapsed": 272,
     "status": "error",
     "timestamp": 1622219018681,
     "user": {
      "displayName": "Faye Orcales",
      "photoUrl": "https://lh3.googleusercontent.com/a-/AOh14GgjXN79ODVOiN3TMQi7V121eP1n_ihJ8hdsnAoG8w=s64",
      "userId": "06713982783466671515"
     },
     "user_tz": 420
    },
    "id": "vi0oxvXAc2k4",
    "outputId": "beb4afc4-cd0a-42a6-cde6-a002cca83507"
   },
   "outputs": [],
   "source": [
    "X_train, X_test, y_train, y_test = train_test_split(features, labels_logfq, test_size = 0.3, random_state = 0)"
   ]
  },
  {
   "cell_type": "markdown",
   "metadata": {
    "id": "UJBLOjM-8cGV"
   },
   "source": [
    "## Run the regression as default"
   ]
  },
  {
   "cell_type": "code",
   "execution_count": 10,
   "metadata": {
    "colab": {
     "base_uri": "https://localhost:8080/"
    },
    "executionInfo": {
     "elapsed": 16297,
     "status": "ok",
     "timestamp": 1619801421277,
     "user": {
      "displayName": "Faye Orcales",
      "photoUrl": "https://lh3.googleusercontent.com/a-/AOh14GgjXN79ODVOiN3TMQi7V121eP1n_ihJ8hdsnAoG8w=s64",
      "userId": "06713982783466671515"
     },
     "user_tz": 420
    },
    "id": "dHCORexdslet",
    "outputId": "4856d392-7368-415e-a7de-091ba281f91e"
   },
   "outputs": [
    {
     "name": "stdout",
     "output_type": "stream",
     "text": [
      "R^2 Training Score: 0.81 \n",
      "R^2 Testing Score: 0.54\n"
     ]
    }
   ],
   "source": [
    "#Default\n",
    "rfr = RandomForestRegressor(n_estimators = 100, random_state = 0)\n",
    "# Train the model on training data\n",
    "rfr.fit(X_train, y_train);\n",
    "print('R^2 Training Score: {:.2f} \\nR^2 Testing Score: {:.2f}'.format(rfr.score(X_train, y_train), rfr.score(X_test, y_test)))"
   ]
  },
  {
   "cell_type": "markdown",
   "metadata": {},
   "source": [
    "### Run the same best parameters for all features MF model "
   ]
  },
  {
   "cell_type": "code",
   "execution_count": 111,
   "metadata": {},
   "outputs": [],
   "source": [
    "param_grid = {\n",
    "    'bootstrap': [True],\n",
    "    'min_samples_split': [75], \n",
    "    'n_estimators' : [800],\n",
    "    'max_depth': [40,50],\n",
    "    'max_features': [60],\n",
    "    'min_samples_leaf': [2],    \n",
    "    }"
   ]
  },
  {
   "cell_type": "code",
   "execution_count": 112,
   "metadata": {},
   "outputs": [],
   "source": [
    "rf = RandomForestRegressor()\n",
    "\n",
    "# Instantiate the grid search model\n",
    "grid_search = GridSearchCV(estimator = rf, param_grid = param_grid, \n",
    "                          cv = 3, n_jobs = -1)"
   ]
  },
  {
   "cell_type": "code",
   "execution_count": 113,
   "metadata": {},
   "outputs": [
    {
     "data": {
      "text/plain": [
       "GridSearchCV(cv=3, estimator=RandomForestRegressor(), n_jobs=-1,\n",
       "             param_grid={'bootstrap': [True], 'max_depth': [40, 50],\n",
       "                         'max_features': [60], 'min_samples_leaf': [2],\n",
       "                         'min_samples_split': [75], 'n_estimators': [800]})"
      ]
     },
     "execution_count": 113,
     "metadata": {},
     "output_type": "execute_result"
    }
   ],
   "source": [
    "# Fit the random search model\n",
    "grid_search.fit(X_train, y_train)"
   ]
  },
  {
   "cell_type": "code",
   "execution_count": 109,
   "metadata": {},
   "outputs": [
    {
     "name": "stdout",
     "output_type": "stream",
     "text": [
      "{'bootstrap': True, 'max_depth': 40, 'max_features': 60, 'min_samples_leaf': 2, 'min_samples_split': 75, 'n_estimators': 800}\n"
     ]
    }
   ],
   "source": [
    "print(grid_search.best_params_)"
   ]
  },
  {
   "cell_type": "code",
   "execution_count": 114,
   "metadata": {},
   "outputs": [
    {
     "name": "stdout",
     "output_type": "stream",
     "text": [
      "{'bootstrap': True, 'max_depth': 40, 'max_features': 60, 'min_samples_leaf': 2, 'min_samples_split': 75, 'n_estimators': 800}\n"
     ]
    }
   ],
   "source": [
    "print(grid_search.best_params_)"
   ]
  },
  {
   "cell_type": "code",
   "execution_count": 110,
   "metadata": {},
   "outputs": [
    {
     "name": "stdout",
     "output_type": "stream",
     "text": [
      "R^2 Training Score: 0.6712 \n",
      "R^2 Testing Score: 0.5970\n"
     ]
    }
   ],
   "source": [
    "print('R^2 Training Score: {:.4f} \\nR^2 Testing Score: {:.4f}'.format(grid_search.score(X_train, y_train), grid_search.score(X_test, y_test)))"
   ]
  },
  {
   "cell_type": "markdown",
   "metadata": {},
   "source": [
    "### RandomizedSearchCV"
   ]
  },
  {
   "cell_type": "code",
   "execution_count": 54,
   "metadata": {},
   "outputs": [
    {
     "data": {
      "text/plain": [
       "{'n_estimators': 800,\n",
       " 'min_samples_split': 75,\n",
       " 'min_samples_leaf': 2,\n",
       " 'max_features': 'auto',\n",
       " 'max_depth': 40,\n",
       " 'bootstrap': True}"
      ]
     },
     "execution_count": 54,
     "metadata": {},
     "output_type": "execute_result"
    }
   ],
   "source": [
    "rf_random.best_params_"
   ]
  },
  {
   "cell_type": "markdown",
   "metadata": {},
   "source": [
    "### Run the best model"
   ]
  },
  {
   "cell_type": "code",
   "execution_count": 115,
   "metadata": {},
   "outputs": [
    {
     "data": {
      "text/plain": [
       "RandomForestRegressor(max_depth=40, max_features=60, min_samples_leaf=2,\n",
       "                      min_samples_split=75, n_estimators=800)"
      ]
     },
     "execution_count": 115,
     "metadata": {},
     "output_type": "execute_result"
    }
   ],
   "source": [
    "Model1 = RandomForestRegressor(bootstrap=True, \n",
    "                            max_depth=40,max_features=60,\n",
    "                            min_samples_leaf=2,min_samples_split=75,\n",
    "                            n_estimators=800) \n",
    "#Fit model\n",
    "Model1.fit(X_train, y_train)\n",
    "\n"
   ]
  },
  {
   "cell_type": "code",
   "execution_count": 116,
   "metadata": {},
   "outputs": [
    {
     "name": "stderr",
     "output_type": "stream",
     "text": [
      "/Users/kahotisthammer/miniconda3/lib/python3.9/site-packages/sklearn/base.py:445: UserWarning: X does not have valid feature names, but RandomForestRegressor was fitted with feature names\n",
      "  warnings.warn(\n"
     ]
    }
   ],
   "source": [
    "y_pred = Model1.predict(X_test.values)"
   ]
  },
  {
   "cell_type": "code",
   "execution_count": 117,
   "metadata": {},
   "outputs": [
    {
     "name": "stdout",
     "output_type": "stream",
     "text": [
      "R^2 Training Score: 0.6711 \n",
      "R^2 Testing Score: 0.5971\n"
     ]
    }
   ],
   "source": [
    "print('R^2 Training Score: {:.4f} \\nR^2 Testing Score: {:.4f}'.format(Model1.score(X_train, y_train), \n",
    "                                                                        Model1.score(X_test, y_test)))"
   ]
  },
  {
   "cell_type": "code",
   "execution_count": 118,
   "metadata": {},
   "outputs": [
    {
     "name": "stdout",
     "output_type": "stream",
     "text": [
      "Variable: Nonsyn               Importance: 0.5686\n",
      "Variable: bigAAChange          Importance: 0.1523\n",
      "Variable: *-MutAA              Importance: 0.0535\n",
      "Variable: a-refN               Importance: 0.0272\n",
      "Variable: t-refN               Importance: 0.0199\n",
      "Variable: Core                 Importance: 0.0194\n",
      "Variable: NS5B                 Importance: 0.0152\n",
      "Variable: HVR1                 Importance: 0.011\n",
      "Variable: V-ogAA               Importance: 0.0097\n",
      "Variable: Hydrophobic AA       Importance: 0.0078\n",
      "Variable: NS2                  Importance: 0.0064\n",
      "Variable: c-refN               Importance: 0.0058\n",
      "Variable: NS1                  Importance: 0.0055\n",
      "Variable: NS5A                 Importance: 0.0052\n",
      "Variable: E2                   Importance: 0.0048\n",
      "Variable: g-refN               Importance: 0.0045\n",
      "Variable: W-ogAA               Importance: 0.0043\n",
      "Variable: I-ogAA               Importance: 0.0038\n",
      "Variable: makesApA             Importance: 0.0038\n",
      "Variable: Polar AA             Importance: 0.0034\n",
      "Variable: makesTpG             Importance: 0.003\n",
      "Variable: NS3                  Importance: 0.0028\n",
      "Variable: makesTpT             Importance: 0.0027\n",
      "Variable: makesCpA             Importance: 0.0025\n",
      "Variable: E1                   Importance: 0.0024\n",
      "Variable: A-ogAA               Importance: 0.0024\n",
      "Variable: S-ogAA               Importance: 0.0023\n",
      "Variable: makesCpC             Importance: 0.0021\n",
      "Variable: makesCpT             Importance: 0.0019\n",
      "Variable: makesGpT             Importance: 0.0019\n",
      "Variable: RNAstructure         Importance: 0.0017\n",
      "Variable: T-MutAA              Importance: 0.0017\n",
      "Variable: C-MutAA              Importance: 0.0016\n",
      "Variable: makesGpA             Importance: 0.0016\n",
      "Variable: A-MutAA              Importance: 0.0015\n",
      "Variable: F-MutAA              Importance: 0.0015\n",
      "Variable: V-MutAA              Importance: 0.0015\n",
      "Variable: T-ogAA               Importance: 0.0015\n",
      "Variable: makesApG             Importance: 0.0015\n",
      "Variable: Y-ogAA               Importance: 0.0014\n",
      "Variable: makesTpA             Importance: 0.0014\n",
      "Variable: NS4B                 Importance: 0.0013\n",
      "Variable: K-ogAA               Importance: 0.0013\n",
      "Variable: makesCpG             Importance: 0.0012\n",
      "Variable: R-ogAA               Importance: 0.0012\n",
      "Variable: makesApC             Importance: 0.0012\n",
      "Variable: M-ogAA               Importance: 0.001\n",
      "Variable: NS4A                 Importance: 0.0009\n",
      "Variable: Positive AA          Importance: 0.0009\n",
      "Variable: R-MutAA              Importance: 0.0009\n",
      "Variable: E-ogAA               Importance: 0.0009\n",
      "Variable: G-ogAA               Importance: 0.0009\n",
      "Variable: H-ogAA               Importance: 0.0009\n",
      "Variable: I-MutAA              Importance: 0.0008\n",
      "Variable: K-MutAA              Importance: 0.0008\n",
      "Variable: F-ogAA               Importance: 0.0008\n",
      "Variable: L-MutAA              Importance: 0.0007\n",
      "Variable: C-ogAA               Importance: 0.0007\n",
      "Variable: makesApT             Importance: 0.0007\n",
      "Variable: makesGpC             Importance: 0.0007\n",
      "Variable: makesGpG             Importance: 0.0007\n",
      "Variable: Nonpolar AA          Importance: 0.0006\n",
      "Variable: H-MutAA              Importance: 0.0006\n",
      "Variable: M-MutAA              Importance: 0.0006\n",
      "Variable: N-MutAA              Importance: 0.0006\n",
      "Variable: Q-MutAA              Importance: 0.0006\n",
      "Variable: S-MutAA              Importance: 0.0006\n",
      "Variable: makesTpC             Importance: 0.0006\n",
      "Variable: D-MutAA              Importance: 0.0005\n",
      "Variable: P-ogAA               Importance: 0.0005\n",
      "Variable: E-MutAA              Importance: 0.0004\n",
      "Variable: G-MutAA              Importance: 0.0004\n",
      "Variable: P-MutAA              Importance: 0.0004\n",
      "Variable: D-ogAA               Importance: 0.0004\n",
      "Variable: L-ogAA               Importance: 0.0004\n",
      "Variable: N-ogAA               Importance: 0.0004\n",
      "Variable: Y-MutAA              Importance: 0.0003\n",
      "Variable: Q-ogAA               Importance: 0.0003\n",
      "Variable: Negative AA          Importance: 0.0002\n",
      "Variable: Acidic AA            Importance: 0.0001\n",
      "Variable: 5' UTR               Importance: 0.0\n",
      "Variable: W-MutAA              Importance: 0.0\n",
      "Variable: *-ogAA               Importance: 0.0\n"
     ]
    }
   ],
   "source": [
    "importances = list(Model1.feature_importances_)\n",
    "\n",
    "feature_list = list(X_train.columns)\n",
    "\n",
    "# List of tuples with variable and importance\n",
    "feature_importances = [(feature, round(importance, 4)) for feature, importance in zip(feature_list, importances)]\n",
    "# Sort the feature importances by most important first\n",
    "feature_importances = sorted(feature_importances, key = lambda x: x[1], reverse = True)\n",
    "# Print out the feature and importances \n",
    "[print('Variable: {:20} Importance: {}'.format(*pair)) for pair in feature_importances];"
   ]
  },
  {
   "cell_type": "code",
   "execution_count": 119,
   "metadata": {},
   "outputs": [
    {
     "data": {
      "image/png": "[encoded data removed]",
      "text/plain": [
       "<Figure size 864x288 with 1 Axes>"
      ]
     },
     "metadata": {
      "needs_background": "light"
     },
     "output_type": "display_data"
    }
   ],
   "source": [
    "plt.figure(figsize=(12, 4))\n",
    "plt.style.use('seaborn-muted')\n",
    "# list of x locations for plotting\n",
    "x_values = list(range(len(importances)))\n",
    "# Make a bar chart\n",
    "plt.bar(x_values, importances, orientation = 'vertical')\n",
    "# Tick labels for x axis\n",
    "plt.xticks(x_values, feature_list, rotation='vertical')\n",
    "# Axis labels and title\n",
    "plt.ylabel('Importance'); plt.xlabel('Feature'); plt.title('Feature Importances');"
   ]
  },
  {
   "cell_type": "code",
   "execution_count": 120,
   "metadata": {},
   "outputs": [],
   "source": [
    "FeatureImportance=pd.DataFrame(feature_list, columns=['Feature'])\n",
    "FeatureImportance=FeatureImportance.assign(Importance=importances)\n",
    "FeatureImportance.to_csv('../Output/ML/FeatureImpotance_regression_all_MF.csv', index=False)  "
   ]
  },
  {
   "cell_type": "markdown",
   "metadata": {},
   "source": [
    "## Feature Selection"
   ]
  },
  {
   "cell_type": "code",
   "execution_count": 121,
   "metadata": {},
   "outputs": [
    {
     "data": {
      "text/plain": [
       "SelectFromModel(estimator=RandomForestRegressor(max_depth=40, max_features=60,\n",
       "                                                min_samples_leaf=2,\n",
       "                                                min_samples_split=75,\n",
       "                                                n_estimators=800))"
      ]
     },
     "execution_count": 121,
     "metadata": {},
     "output_type": "execute_result"
    }
   ],
   "source": [
    "sel = SelectFromModel(Model1)\n",
    "sel.fit(X_train, y_train)"
   ]
  },
  {
   "cell_type": "code",
   "execution_count": 122,
   "metadata": {},
   "outputs": [
    {
     "data": {
      "text/plain": [
       "7"
      ]
     },
     "execution_count": 122,
     "metadata": {},
     "output_type": "execute_result"
    }
   ],
   "source": [
    "selected_feat= X_train.columns[(sel.get_support())]\n",
    "len(selected_feat)"
   ]
  },
  {
   "cell_type": "code",
   "execution_count": 123,
   "metadata": {},
   "outputs": [
    {
     "name": "stdout",
     "output_type": "stream",
     "text": [
      "Index(['bigAAChange', 'Core', 'NS5B', 'Nonsyn', '*-MutAA', 'a-refN', 't-refN'], dtype='object')\n"
     ]
    }
   ],
   "source": [
    "print(selected_feat)"
   ]
  },
  {
   "cell_type": "code",
   "execution_count": 124,
   "metadata": {},
   "outputs": [],
   "source": [
    "#select the features\n",
    "cols=selected_feat.tolist()"
   ]
  },
  {
   "cell_type": "code",
   "execution_count": 125,
   "metadata": {},
   "outputs": [],
   "source": [
    "X_train3=X_train[cols]\n",
    "X_test3=X_test[cols]"
   ]
  },
  {
   "cell_type": "code",
   "execution_count": 126,
   "metadata": {},
   "outputs": [],
   "source": [
    "Model3 = RandomForestRegressor(bootstrap=True, \n",
    "                            max_depth=16,max_features=7,\n",
    "                            min_samples_leaf=2,min_samples_split=80,\n",
    "                            n_estimators=1300, n_jobs=-1)\n",
    "selected = Model3.fit(X_train3, y_train)"
   ]
  },
  {
   "cell_type": "code",
   "execution_count": 127,
   "metadata": {},
   "outputs": [
    {
     "name": "stderr",
     "output_type": "stream",
     "text": [
      "/Users/kahotisthammer/miniconda3/lib/python3.9/site-packages/sklearn/base.py:445: UserWarning: X does not have valid feature names, but RandomForestRegressor was fitted with feature names\n",
      "  warnings.warn(\n"
     ]
    },
    {
     "name": "stdout",
     "output_type": "stream",
     "text": [
      "R^2 Training Score: 0.6033 \n",
      "R^2 Testing Score: 0.5586\n"
     ]
    }
   ],
   "source": [
    "y_pred = Model3.predict(X_test3.values)\n",
    "print('R^2 Training Score: {:.4f} \\nR^2 Testing Score: {:.4f}'.format(Model3.score(X_train3, y_train), \n",
    "                                                                        Model3.score(X_test3, y_test)))"
   ]
  },
  {
   "cell_type": "code",
   "execution_count": 128,
   "metadata": {},
   "outputs": [],
   "source": [
    "Feature2=pd.DataFrame(list(X_train3.columns), columns=['Feature'])\n",
    "Feature2=Feature2.assign(Importance=list(Model3.feature_importances_))\n",
    "\n",
    "Feature2.to_csv('../Output/ML/FeatureImpotance_regression_selected_MF.csv', index=False)  "
   ]
  }
 ],
 "metadata": {
  "colab": {
   "collapsed_sections": [],
   "name": "HepC_Random_Forest_Model_FayeCopy.ipynb",
   "provenance": [
    {
     "file_id": "1fOCSB9z8TQpUJYGHNq1lCSVjazDwTKBe",
     "timestamp": 1615324111696
    },
    {
     "file_id": "11mT7Z2at06HAjxdTYVhxmnRy4x5_e6Vp",
     "timestamp": 1607918269498
    },
    {
     "file_id": "1sCUMOtkThiFqdn525nopKaNYlontv-4D",
     "timestamp": 1607492004360
    },
    {
     "file_id": "https://github.com/Lore8614/Lore8614.github.io/blob/master/Big_Dreams.ipynb",
     "timestamp": 1607300047832
    }
   ]
  },
  "kernelspec": {
   "display_name": "Python 3",
   "language": "python",
   "name": "python3"
  },
  "language_info": {
   "codemirror_mode": {
    "name": "ipython",
    "version": 3
   },
   "file_extension": ".py",
   "mimetype": "text/x-python",
   "name": "python",
   "nbconvert_exporter": "python",
   "pygments_lexer": "ipython3",
   "version": "3.9.5"
  }
 },
 "nbformat": 4,
 "nbformat_minor": 1
}
